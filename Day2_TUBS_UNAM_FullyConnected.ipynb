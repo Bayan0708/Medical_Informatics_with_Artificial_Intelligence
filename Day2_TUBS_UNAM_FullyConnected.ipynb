{
  "cells": [
    {
      "cell_type": "markdown",
      "source": [
        "# Sebastián González Juárez\n",
        "## Solución de segundo día."
      ],
      "metadata": {
        "id": "GzUtSkVKh9jz"
      },
      "id": "GzUtSkVKh9jz"
    },
    {
      "cell_type": "markdown",
      "source": [
        "<center>\n",
        "<img src=\"https://www.plri.de/assets/images/logo_plri_de.png\"\n",
        "width=\"200\">\n",
        "<img src=\"https://upload.wikimedia.org/wikipedia/commons/thumb/9/9d/Siegel_TU_Braunschweig_transparent.svg/800px-Siegel_TU_Braunschweig_transparent.svg.png\"\n",
        "width=\"250\">\n",
        "<img src=\"https://upload.wikimedia.org/wikipedia/commons/3/3d/Medizinische_Hochschule_Hannover_logo.svg\"\n",
        "width=\"250\">\n",
        "<img src=\"https://images.seeklogo.com/logo-png/38/2/universidad-nacional-autonoma-de-mexico-unam-logo-png_seeklogo-387361.png\" width=\"110\">\n",
        "</center>"
      ],
      "metadata": {
        "id": "NGuVTt8k1Z7u"
      },
      "id": "NGuVTt8k1Z7u"
    },
    {
      "cell_type": "markdown",
      "source": [
        "<font color=\"Teal\" face=\"Georgia,arial\">\n",
        "  <h1 align=\"center\"><b></b></h1>\n",
        "  <h1 align=\"center\"><i><b>Fully Connected</b></i></h1>\n",
        "  </font>\n",
        "  <font color=\"Black\" face=\"Georgia,arial\">\n",
        "  <h5 align=\"center\"><i><b></b></i></h5>\n",
        "  <h5 align=\"center\"><i><b></b></i></h5>\n",
        "</font>\n",
        "\n",
        "**CONTENTS**\n",
        "\n",
        "The main idea is to build and train a simple multilayer perceptron (fully connected network) to classify data (such as handwritten digits). This process is based on deep learning techniques, where the model learns to recognize patterns from the input data through layers of neurons, activation functions, and optimization during training.\n",
        "\n",
        "FullyConnected.ipynb: Main notebook where the code is organized to load data, define the model, train it, and evaluate its performance.\n",
        "\n",
        "Results and plots: Includes accuracy metrics and visualizations of predictions.\n",
        "\n",
        "----------------------------------------\n",
        "\n",
        "**🚀 HOW TO USE THE CODE?**\n",
        "\n",
        "1. Open the Style_Transfer.ipynb notebook in Google Colab.\n",
        "\n",
        "* Go to the menu: File > Save a copy to Drive\n",
        "* Gray cells with code are executed with Shift + Enter\n",
        "\n",
        "----------------------------------------\n",
        "\n",
        "**🔧 HOW TO RUN THE NOTEBOOK?**\n",
        "\n",
        "1. Locate the block of code you want to run.\n",
        "In the upper left corner of the block, click on the triangle button ▶️\n",
        "\n",
        "2. Wait for a green check mark ✅ to appear next to the block: this indicates that it has finished executing.\n",
        "\n",
        "----------------------------------------\n",
        "\n",
        "**📝 ADDITIONAL NOTES**\n",
        "\n",
        "- The code may take between 10 and 15 minutes to load.\n",
        "\n",
        "----------------------------------------\n",
        "**🙋 IF YOU HAVE ANY QUESTIONS ABOUT HOW TO USE THE CODE, YOU CAN SEND US AN EMAIL**\n",
        "\n",
        "Email for questions -- unam.tubs@gmail.com\n",
        "\n",
        "Attach a screenshot if you get an error message."
      ],
      "metadata": {
        "id": "LRQEXzQ_1gkX"
      },
      "id": "LRQEXzQ_1gkX"
    },
    {
      "cell_type": "markdown",
      "source": [
        "The following code sets the necessary imports and loads the MNIST-dataset"
      ],
      "metadata": {
        "id": "6f17w0ykCnzx"
      },
      "id": "6f17w0ykCnzx"
    },
    {
      "cell_type": "code",
      "source": [
        "!pip install tensorflow\n"
      ],
      "metadata": {
        "colab": {
          "base_uri": "https://localhost:8080/"
        },
        "id": "O4MKUi_pizUq",
        "outputId": "e1fca178-1389-47d8-ee7b-347e6771b6ee"
      },
      "id": "O4MKUi_pizUq",
      "execution_count": 1,
      "outputs": [
        {
          "output_type": "stream",
          "name": "stdout",
          "text": [
            "Requirement already satisfied: tensorflow in /usr/local/lib/python3.12/dist-packages (2.19.0)\n",
            "Requirement already satisfied: absl-py>=1.0.0 in /usr/local/lib/python3.12/dist-packages (from tensorflow) (1.4.0)\n",
            "Requirement already satisfied: astunparse>=1.6.0 in /usr/local/lib/python3.12/dist-packages (from tensorflow) (1.6.3)\n",
            "Requirement already satisfied: flatbuffers>=24.3.25 in /usr/local/lib/python3.12/dist-packages (from tensorflow) (25.2.10)\n",
            "Requirement already satisfied: gast!=0.5.0,!=0.5.1,!=0.5.2,>=0.2.1 in /usr/local/lib/python3.12/dist-packages (from tensorflow) (0.6.0)\n",
            "Requirement already satisfied: google-pasta>=0.1.1 in /usr/local/lib/python3.12/dist-packages (from tensorflow) (0.2.0)\n",
            "Requirement already satisfied: libclang>=13.0.0 in /usr/local/lib/python3.12/dist-packages (from tensorflow) (18.1.1)\n",
            "Requirement already satisfied: opt-einsum>=2.3.2 in /usr/local/lib/python3.12/dist-packages (from tensorflow) (3.4.0)\n",
            "Requirement already satisfied: packaging in /usr/local/lib/python3.12/dist-packages (from tensorflow) (25.0)\n",
            "Requirement already satisfied: protobuf!=4.21.0,!=4.21.1,!=4.21.2,!=4.21.3,!=4.21.4,!=4.21.5,<6.0.0dev,>=3.20.3 in /usr/local/lib/python3.12/dist-packages (from tensorflow) (5.29.5)\n",
            "Requirement already satisfied: requests<3,>=2.21.0 in /usr/local/lib/python3.12/dist-packages (from tensorflow) (2.32.4)\n",
            "Requirement already satisfied: setuptools in /usr/local/lib/python3.12/dist-packages (from tensorflow) (75.2.0)\n",
            "Requirement already satisfied: six>=1.12.0 in /usr/local/lib/python3.12/dist-packages (from tensorflow) (1.17.0)\n",
            "Requirement already satisfied: termcolor>=1.1.0 in /usr/local/lib/python3.12/dist-packages (from tensorflow) (3.1.0)\n",
            "Requirement already satisfied: typing-extensions>=3.6.6 in /usr/local/lib/python3.12/dist-packages (from tensorflow) (4.15.0)\n",
            "Requirement already satisfied: wrapt>=1.11.0 in /usr/local/lib/python3.12/dist-packages (from tensorflow) (1.17.3)\n",
            "Requirement already satisfied: grpcio<2.0,>=1.24.3 in /usr/local/lib/python3.12/dist-packages (from tensorflow) (1.74.0)\n",
            "Requirement already satisfied: tensorboard~=2.19.0 in /usr/local/lib/python3.12/dist-packages (from tensorflow) (2.19.0)\n",
            "Requirement already satisfied: keras>=3.5.0 in /usr/local/lib/python3.12/dist-packages (from tensorflow) (3.10.0)\n",
            "Requirement already satisfied: numpy<2.2.0,>=1.26.0 in /usr/local/lib/python3.12/dist-packages (from tensorflow) (2.0.2)\n",
            "Requirement already satisfied: h5py>=3.11.0 in /usr/local/lib/python3.12/dist-packages (from tensorflow) (3.14.0)\n",
            "Requirement already satisfied: ml-dtypes<1.0.0,>=0.5.1 in /usr/local/lib/python3.12/dist-packages (from tensorflow) (0.5.3)\n",
            "Requirement already satisfied: wheel<1.0,>=0.23.0 in /usr/local/lib/python3.12/dist-packages (from astunparse>=1.6.0->tensorflow) (0.45.1)\n",
            "Requirement already satisfied: rich in /usr/local/lib/python3.12/dist-packages (from keras>=3.5.0->tensorflow) (13.9.4)\n",
            "Requirement already satisfied: namex in /usr/local/lib/python3.12/dist-packages (from keras>=3.5.0->tensorflow) (0.1.0)\n",
            "Requirement already satisfied: optree in /usr/local/lib/python3.12/dist-packages (from keras>=3.5.0->tensorflow) (0.17.0)\n",
            "Requirement already satisfied: charset_normalizer<4,>=2 in /usr/local/lib/python3.12/dist-packages (from requests<3,>=2.21.0->tensorflow) (3.4.3)\n",
            "Requirement already satisfied: idna<4,>=2.5 in /usr/local/lib/python3.12/dist-packages (from requests<3,>=2.21.0->tensorflow) (3.10)\n",
            "Requirement already satisfied: urllib3<3,>=1.21.1 in /usr/local/lib/python3.12/dist-packages (from requests<3,>=2.21.0->tensorflow) (2.5.0)\n",
            "Requirement already satisfied: certifi>=2017.4.17 in /usr/local/lib/python3.12/dist-packages (from requests<3,>=2.21.0->tensorflow) (2025.8.3)\n",
            "Requirement already satisfied: markdown>=2.6.8 in /usr/local/lib/python3.12/dist-packages (from tensorboard~=2.19.0->tensorflow) (3.8.2)\n",
            "Requirement already satisfied: tensorboard-data-server<0.8.0,>=0.7.0 in /usr/local/lib/python3.12/dist-packages (from tensorboard~=2.19.0->tensorflow) (0.7.2)\n",
            "Requirement already satisfied: werkzeug>=1.0.1 in /usr/local/lib/python3.12/dist-packages (from tensorboard~=2.19.0->tensorflow) (3.1.3)\n",
            "Requirement already satisfied: MarkupSafe>=2.1.1 in /usr/local/lib/python3.12/dist-packages (from werkzeug>=1.0.1->tensorboard~=2.19.0->tensorflow) (3.0.2)\n",
            "Requirement already satisfied: markdown-it-py>=2.2.0 in /usr/local/lib/python3.12/dist-packages (from rich->keras>=3.5.0->tensorflow) (4.0.0)\n",
            "Requirement already satisfied: pygments<3.0.0,>=2.13.0 in /usr/local/lib/python3.12/dist-packages (from rich->keras>=3.5.0->tensorflow) (2.19.2)\n",
            "Requirement already satisfied: mdurl~=0.1 in /usr/local/lib/python3.12/dist-packages (from markdown-it-py>=2.2.0->rich->keras>=3.5.0->tensorflow) (0.1.2)\n"
          ]
        }
      ]
    },
    {
      "cell_type": "code",
      "execution_count": 2,
      "id": "d803bd23-89e5-4ce3-9d72-f66b6e654e65",
      "metadata": {
        "id": "d803bd23-89e5-4ce3-9d72-f66b6e654e65",
        "colab": {
          "base_uri": "https://localhost:8080/"
        },
        "outputId": "21c45940-d0ff-4d57-a4af-552c3bc205ee"
      },
      "outputs": [
        {
          "output_type": "stream",
          "name": "stdout",
          "text": [
            "Downloading data from https://storage.googleapis.com/tensorflow/tf-keras-datasets/mnist.npz\n",
            "\u001b[1m11490434/11490434\u001b[0m \u001b[32m━━━━━━━━━━━━━━━━━━━━\u001b[0m\u001b[37m\u001b[0m \u001b[1m2s\u001b[0m 0us/step\n"
          ]
        }
      ],
      "source": [
        "# Importing required libraries\n",
        "import numpy as np\n",
        "import matplotlib.pyplot as plt\n",
        "from tensorflow.keras.datasets import mnist\n",
        "from tensorflow.keras.models import Sequential\n",
        "from tensorflow.keras.layers import Dense, Flatten\n",
        "from tensorflow.keras.utils import to_categorical\n",
        "\n",
        "# 1. Load MNIST dataset\n",
        "(X_train, y_train), (X_test, y_test) = mnist.load_data()"
      ]
    },
    {
      "cell_type": "markdown",
      "source": [
        "This code visualizes the 10th image and the corresponding label"
      ],
      "metadata": {
        "id": "fRoBN272ClsR"
      },
      "id": "fRoBN272ClsR"
    },
    {
      "cell_type": "code",
      "execution_count": 3,
      "id": "8ad5c75c-71b3-45b4-92be-2c0977371672",
      "metadata": {
        "id": "8ad5c75c-71b3-45b4-92be-2c0977371672",
        "colab": {
          "base_uri": "https://localhost:8080/",
          "height": 452
        },
        "outputId": "54f93d95-2a45-4545-a93b-4ff999ae7dca"
      },
      "outputs": [
        {
          "output_type": "display_data",
          "data": {
            "text/plain": [
              "<Figure size 640x480 with 1 Axes>"
            ],
            "image/png": "[encoded data removed]"
          },
          "metadata": {}
        }
      ],
      "source": [
        "# 2. Visualization\n",
        "# 2a. Visualize the 10th image\n",
        "plt.imshow(X_train[9], cmap='gray')\n",
        "plt.title(f\"Ground Truth Label: {y_train[9]}\")\n",
        "plt.show()\n"
      ]
    },
    {
      "cell_type": "markdown",
      "source": [
        "If we visualize 8 random images, we can see that some of them are skewed"
      ],
      "metadata": {
        "id": "tpOhW5UWDS6R"
      },
      "id": "tpOhW5UWDS6R"
    },
    {
      "cell_type": "code",
      "execution_count": 4,
      "id": "ca68d75e-706c-4661-97e6-c1f981f52ce8",
      "metadata": {
        "id": "ca68d75e-706c-4661-97e6-c1f981f52ce8",
        "colab": {
          "base_uri": "https://localhost:8080/",
          "height": 120
        },
        "outputId": "a52f346d-fc7e-44a3-ae56-2fef29a87c89"
      },
      "outputs": [
        {
          "output_type": "display_data",
          "data": {
            "text/plain": [
              "<Figure size 1500x500 with 8 Axes>"
            ],
            "image/png": "[encoded data removed]"
          },
          "metadata": {}
        }
      ],
      "source": [
        "# 2b. Visualize 8 random images\n",
        "fig, axes = plt.subplots(1, 8, figsize=(15, 5))\n",
        "for i, ax in enumerate(axes):\n",
        "    idx = np.random.randint(0, len(X_train))\n",
        "    ax.imshow(X_train[idx], cmap='gray')\n",
        "    ax.set_title(f\"Label: {y_train[idx]}\")\n",
        "    ax.axis('off')\n",
        "plt.show()\n"
      ]
    },
    {
      "cell_type": "markdown",
      "source": [
        "This code calculates the “moments” of the image (a way to measure the shape and orientation of the pixels).\n",
        "\n",
        "From those moments, it figures out how much the image is leaning left or right (the skew).\n",
        "\n",
        "If the image isn’t skewed, it just returns it unchanged.\n",
        "\n",
        "If it is skewed, it builds a small transformation matrix.\n",
        "\n",
        "Finally, it applies this transformation so the number looks more upright."
      ],
      "metadata": {
        "id": "WZBEAfCGEdHY"
      },
      "id": "WZBEAfCGEdHY"
    },
    {
      "cell_type": "code",
      "execution_count": 5,
      "id": "1ed409bd-b339-4c13-ab67-97e44911198b",
      "metadata": {
        "id": "1ed409bd-b339-4c13-ab67-97e44911198b"
      },
      "outputs": [],
      "source": [
        "# 3. Deskew function (example)\n",
        "import cv2\n",
        "def deskew(image):\n",
        "    moments = cv2.moments(image)\n",
        "    if moments['mu02'] == 0:\n",
        "        return image\n",
        "    skew = moments['mu11'] / moments['mu02']\n",
        "    matrix = np.float32([[1, skew, -0.5 * skew], [0, 1, 0]])\n",
        "    rows, cols = image.shape\n",
        "    return cv2.warpAffine(image, matrix, (cols, rows), flags=cv2.WARP_INVERSE_MAP | cv2.INTER_LINEAR)\n"
      ]
    },
    {
      "cell_type": "code",
      "execution_count": 6,
      "id": "7917ab3a-c79a-499a-b26b-5672a425090d",
      "metadata": {
        "id": "7917ab3a-c79a-499a-b26b-5672a425090d",
        "colab": {
          "base_uri": "https://localhost:8080/",
          "height": 105
        },
        "outputId": "c5b03972-61b3-4a00-d780-e9007387bf6d"
      },
      "outputs": [
        {
          "output_type": "display_data",
          "data": {
            "text/plain": [
              "<Figure size 1500x500 with 8 Axes>"
            ],
            "image/png": "[encoded data removed]"
          },
          "metadata": {}
        }
      ],
      "source": [
        "# Deskew and visualize results\n",
        "deskewed_images = [deskew(image) for image in X_train[:8]]\n",
        "fig, axes = plt.subplots(1, 8, figsize=(15, 5))\n",
        "for ax, img in zip(axes, deskewed_images):\n",
        "    ax.imshow(img, cmap='gray')\n",
        "    ax.axis('off')\n",
        "plt.show()\n",
        "\n",
        "X_train_deskew = np.array([deskew(img) for img in X_train], dtype=np.uint8)\n",
        "X_test_deskew  = np.array([deskew(img) for img in X_test],  dtype=np.uint8)\n"
      ]
    },
    {
      "cell_type": "markdown",
      "source": [
        "For our fully connected feed forward network, we need to flatten the 28x28 image into a 1D Vector\n",
        "\n",
        "Since the pixel values are expressed as in the range of 255 but we need them as a 0-1 float, we divide the values by 255"
      ],
      "metadata": {
        "id": "bayEh9GAFmBa"
      },
      "id": "bayEh9GAFmBa"
    },
    {
      "cell_type": "code",
      "execution_count": 7,
      "id": "3b7f7b32-e001-4b94-bf7e-fa37e3661e5b",
      "metadata": {
        "id": "3b7f7b32-e001-4b94-bf7e-fa37e3661e5b"
      },
      "outputs": [],
      "source": [
        "# 4. Flatten the images\n",
        "X_train_flattened = X_train_deskew.reshape(-1, 28 * 28).astype('float32') / 255\n",
        "X_test_flattened = X_test_deskew.reshape(-1, 28 * 28).astype('float32') / 255\n"
      ]
    },
    {
      "cell_type": "code",
      "execution_count": 8,
      "id": "c230881c-ae97-4f45-8d7e-dcc09ab96fdd",
      "metadata": {
        "id": "c230881c-ae97-4f45-8d7e-dcc09ab96fdd"
      },
      "outputs": [],
      "source": [
        "# One-hot encode labels\n",
        "y_train_categorical = to_categorical(y_train, 10)\n",
        "y_test_categorical = to_categorical(y_test, 10)\n"
      ]
    },
    {
      "cell_type": "code",
      "execution_count": 9,
      "id": "7cf9a5b4-1914-4e43-a39c-280e852828ab",
      "metadata": {
        "id": "7cf9a5b4-1914-4e43-a39c-280e852828ab"
      },
      "outputs": [],
      "source": [
        "# 5. Model definition\n",
        "model = Sequential([\n",
        "    Dense(128, activation='relu'),\n",
        "    Dense(64, activation='relu'),\n",
        "    Dense(10, activation='softmax')\n",
        "])\n"
      ]
    },
    {
      "cell_type": "code",
      "execution_count": 10,
      "id": "fd24715e-b58b-4e01-b067-e933c2ebe52a",
      "metadata": {
        "id": "fd24715e-b58b-4e01-b067-e933c2ebe52a",
        "colab": {
          "base_uri": "https://localhost:8080/",
          "height": 225
        },
        "outputId": "23d02e33-d6b1-4bed-bf0a-32b6d9ddb57c"
      },
      "outputs": [
        {
          "output_type": "display_data",
          "data": {
            "text/plain": [
              "\u001b[1mModel: \"sequential\"\u001b[0m\n"
            ],
            "text/html": [
              "<pre style=\"white-space:pre;overflow-x:auto;line-height:normal;font-family:Menlo,'DejaVu Sans Mono',consolas,'Courier New',monospace\"><span style=\"font-weight: bold\">Model: \"sequential\"</span>\n",
              "</pre>\n"
            ]
          },
          "metadata": {}
        },
        {
          "output_type": "display_data",
          "data": {
            "text/plain": [
              "┏━━━━━━━━━━━━━━━━━━━━━━━━━━━━━━━━━┳━━━━━━━━━━━━━━━━━━━━━━━━┳━━━━━━━━━━━━━━━┓\n",
              "┃\u001b[1m \u001b[0m\u001b[1mLayer (type)                   \u001b[0m\u001b[1m \u001b[0m┃\u001b[1m \u001b[0m\u001b[1mOutput Shape          \u001b[0m\u001b[1m \u001b[0m┃\u001b[1m \u001b[0m\u001b[1m      Param #\u001b[0m\u001b[1m \u001b[0m┃\n",
              "┡━━━━━━━━━━━━━━━━━━━━━━━━━━━━━━━━━╇━━━━━━━━━━━━━━━━━━━━━━━━╇━━━━━━━━━━━━━━━┩\n",
              "│ dense (\u001b[38;5;33mDense\u001b[0m)                   │ ?                      │   \u001b[38;5;34m0\u001b[0m (unbuilt) │\n",
              "├─────────────────────────────────┼────────────────────────┼───────────────┤\n",
              "│ dense_1 (\u001b[38;5;33mDense\u001b[0m)                 │ ?                      │   \u001b[38;5;34m0\u001b[0m (unbuilt) │\n",
              "├─────────────────────────────────┼────────────────────────┼───────────────┤\n",
              "│ dense_2 (\u001b[38;5;33mDense\u001b[0m)                 │ ?                      │   \u001b[38;5;34m0\u001b[0m (unbuilt) │\n",
              "└─────────────────────────────────┴────────────────────────┴───────────────┘\n"
            ],
            "text/html": [
              "<pre style=\"white-space:pre;overflow-x:auto;line-height:normal;font-family:Menlo,'DejaVu Sans Mono',consolas,'Courier New',monospace\">┏━━━━━━━━━━━━━━━━━━━━━━━━━━━━━━━━━┳━━━━━━━━━━━━━━━━━━━━━━━━┳━━━━━━━━━━━━━━━┓\n",
              "┃<span style=\"font-weight: bold\"> Layer (type)                    </span>┃<span style=\"font-weight: bold\"> Output Shape           </span>┃<span style=\"font-weight: bold\">       Param # </span>┃\n",
              "┡━━━━━━━━━━━━━━━━━━━━━━━━━━━━━━━━━╇━━━━━━━━━━━━━━━━━━━━━━━━╇━━━━━━━━━━━━━━━┩\n",
              "│ dense (<span style=\"color: #0087ff; text-decoration-color: #0087ff\">Dense</span>)                   │ ?                      │   <span style=\"color: #00af00; text-decoration-color: #00af00\">0</span> (unbuilt) │\n",
              "├─────────────────────────────────┼────────────────────────┼───────────────┤\n",
              "│ dense_1 (<span style=\"color: #0087ff; text-decoration-color: #0087ff\">Dense</span>)                 │ ?                      │   <span style=\"color: #00af00; text-decoration-color: #00af00\">0</span> (unbuilt) │\n",
              "├─────────────────────────────────┼────────────────────────┼───────────────┤\n",
              "│ dense_2 (<span style=\"color: #0087ff; text-decoration-color: #0087ff\">Dense</span>)                 │ ?                      │   <span style=\"color: #00af00; text-decoration-color: #00af00\">0</span> (unbuilt) │\n",
              "└─────────────────────────────────┴────────────────────────┴───────────────┘\n",
              "</pre>\n"
            ]
          },
          "metadata": {}
        },
        {
          "output_type": "display_data",
          "data": {
            "text/plain": [
              "\u001b[1m Total params: \u001b[0m\u001b[38;5;34m0\u001b[0m (0.00 B)\n"
            ],
            "text/html": [
              "<pre style=\"white-space:pre;overflow-x:auto;line-height:normal;font-family:Menlo,'DejaVu Sans Mono',consolas,'Courier New',monospace\"><span style=\"font-weight: bold\"> Total params: </span><span style=\"color: #00af00; text-decoration-color: #00af00\">0</span> (0.00 B)\n",
              "</pre>\n"
            ]
          },
          "metadata": {}
        },
        {
          "output_type": "display_data",
          "data": {
            "text/plain": [
              "\u001b[1m Trainable params: \u001b[0m\u001b[38;5;34m0\u001b[0m (0.00 B)\n"
            ],
            "text/html": [
              "<pre style=\"white-space:pre;overflow-x:auto;line-height:normal;font-family:Menlo,'DejaVu Sans Mono',consolas,'Courier New',monospace\"><span style=\"font-weight: bold\"> Trainable params: </span><span style=\"color: #00af00; text-decoration-color: #00af00\">0</span> (0.00 B)\n",
              "</pre>\n"
            ]
          },
          "metadata": {}
        },
        {
          "output_type": "display_data",
          "data": {
            "text/plain": [
              "\u001b[1m Non-trainable params: \u001b[0m\u001b[38;5;34m0\u001b[0m (0.00 B)\n"
            ],
            "text/html": [
              "<pre style=\"white-space:pre;overflow-x:auto;line-height:normal;font-family:Menlo,'DejaVu Sans Mono',consolas,'Courier New',monospace\"><span style=\"font-weight: bold\"> Non-trainable params: </span><span style=\"color: #00af00; text-decoration-color: #00af00\">0</span> (0.00 B)\n",
              "</pre>\n"
            ]
          },
          "metadata": {}
        }
      ],
      "source": [
        "# 6. Display model summary\n",
        "model.summary()"
      ]
    },
    {
      "cell_type": "code",
      "execution_count": 11,
      "id": "ecab3663-5ae6-4567-a42f-21b4f2321404",
      "metadata": {
        "id": "ecab3663-5ae6-4567-a42f-21b4f2321404"
      },
      "outputs": [],
      "source": [
        "# 7. Compile the model\n",
        "model.compile(optimizer='adam', loss='categorical_crossentropy', metrics=['accuracy'])\n",
        "\n",
        "# Explanation:\n",
        "# - optimizer='adam': smart gradient descent that adapts learning rates\n",
        "# - loss='categorical_crossentropy': compares predicted probabilities vs. one-hot true labels (for multi-class classification)\n",
        "# - metrics=['accuracy']: track how many predictions are correct"
      ]
    },
    {
      "cell_type": "code",
      "execution_count": 12,
      "id": "3dba81f7-eac3-432b-a329-bbd7feade74f",
      "metadata": {
        "id": "3dba81f7-eac3-432b-a329-bbd7feade74f",
        "colab": {
          "base_uri": "https://localhost:8080/"
        },
        "outputId": "eb9e1140-ceeb-4ae7-b6c8-94de1df62548"
      },
      "outputs": [
        {
          "output_type": "stream",
          "name": "stdout",
          "text": [
            "Epoch 1/10\n",
            "\u001b[1m750/750\u001b[0m \u001b[32m━━━━━━━━━━━━━━━━━━━━\u001b[0m\u001b[37m\u001b[0m \u001b[1m6s\u001b[0m 4ms/step - accuracy: 0.7781 - loss: 0.7619 - val_accuracy: 0.9372 - val_loss: 0.2106\n",
            "Epoch 2/10\n",
            "\u001b[1m750/750\u001b[0m \u001b[32m━━━━━━━━━━━━━━━━━━━━\u001b[0m\u001b[37m\u001b[0m \u001b[1m3s\u001b[0m 3ms/step - accuracy: 0.9449 - loss: 0.1856 - val_accuracy: 0.9498 - val_loss: 0.1731\n",
            "Epoch 3/10\n",
            "\u001b[1m750/750\u001b[0m \u001b[32m━━━━━━━━━━━━━━━━━━━━\u001b[0m\u001b[37m\u001b[0m \u001b[1m2s\u001b[0m 3ms/step - accuracy: 0.9618 - loss: 0.1274 - val_accuracy: 0.9564 - val_loss: 0.1450\n",
            "Epoch 4/10\n",
            "\u001b[1m750/750\u001b[0m \u001b[32m━━━━━━━━━━━━━━━━━━━━\u001b[0m\u001b[37m\u001b[0m \u001b[1m2s\u001b[0m 3ms/step - accuracy: 0.9729 - loss: 0.0935 - val_accuracy: 0.9580 - val_loss: 0.1367\n",
            "Epoch 5/10\n",
            "\u001b[1m750/750\u001b[0m \u001b[32m━━━━━━━━━━━━━━━━━━━━\u001b[0m\u001b[37m\u001b[0m \u001b[1m3s\u001b[0m 4ms/step - accuracy: 0.9761 - loss: 0.0745 - val_accuracy: 0.9596 - val_loss: 0.1392\n",
            "Epoch 6/10\n",
            "\u001b[1m750/750\u001b[0m \u001b[32m━━━━━━━━━━━━━━━━━━━━\u001b[0m\u001b[37m\u001b[0m \u001b[1m2s\u001b[0m 3ms/step - accuracy: 0.9821 - loss: 0.0587 - val_accuracy: 0.9636 - val_loss: 0.1274\n",
            "Epoch 7/10\n",
            "\u001b[1m750/750\u001b[0m \u001b[32m━━━━━━━━━━━━━━━━━━━━\u001b[0m\u001b[37m\u001b[0m \u001b[1m3s\u001b[0m 3ms/step - accuracy: 0.9845 - loss: 0.0476 - val_accuracy: 0.9629 - val_loss: 0.1344\n",
            "Epoch 8/10\n",
            "\u001b[1m750/750\u001b[0m \u001b[32m━━━━━━━━━━━━━━━━━━━━\u001b[0m\u001b[37m\u001b[0m \u001b[1m2s\u001b[0m 3ms/step - accuracy: 0.9890 - loss: 0.0379 - val_accuracy: 0.9632 - val_loss: 0.1344\n",
            "Epoch 9/10\n",
            "\u001b[1m750/750\u001b[0m \u001b[32m━━━━━━━━━━━━━━━━━━━━\u001b[0m\u001b[37m\u001b[0m \u001b[1m3s\u001b[0m 3ms/step - accuracy: 0.9914 - loss: 0.0300 - val_accuracy: 0.9587 - val_loss: 0.1578\n",
            "Epoch 10/10\n",
            "\u001b[1m750/750\u001b[0m \u001b[32m━━━━━━━━━━━━━━━━━━━━\u001b[0m\u001b[37m\u001b[0m \u001b[1m3s\u001b[0m 3ms/step - accuracy: 0.9901 - loss: 0.0298 - val_accuracy: 0.9619 - val_loss: 0.1473\n"
          ]
        }
      ],
      "source": [
        "# 8. Train the model\n",
        "history = model.fit(X_train_flattened, y_train_categorical, epochs=10, batch_size=64, validation_split=0.2)"
      ]
    },
    {
      "cell_type": "code",
      "execution_count": 13,
      "id": "32e1d240-ddce-496c-83be-4b6072c0e56b",
      "metadata": {
        "id": "32e1d240-ddce-496c-83be-4b6072c0e56b",
        "colab": {
          "base_uri": "https://localhost:8080/"
        },
        "outputId": "ac490290-c1b8-4c30-fc2a-cfd3c7c73cac"
      },
      "outputs": [
        {
          "output_type": "stream",
          "name": "stdout",
          "text": [
            "\u001b[1m313/313\u001b[0m \u001b[32m━━━━━━━━━━━━━━━━━━━━\u001b[0m\u001b[37m\u001b[0m \u001b[1m1s\u001b[0m 3ms/step - accuracy: 0.9643 - loss: 0.1452\n",
            "Test Loss: 0.12776342034339905, Test Accuracy: 0.9682999849319458\n"
          ]
        }
      ],
      "source": [
        "# 9. Evaluate the model\n",
        "test_loss, test_accuracy = model.evaluate(X_test_flattened, y_test_categorical)\n",
        "print(f\"Test Loss: {test_loss}, Test Accuracy: {test_accuracy}\")\n"
      ]
    },
    {
      "cell_type": "code",
      "execution_count": 14,
      "id": "4faa0d58-d35b-4886-8ea7-43224ca2f0c1",
      "metadata": {
        "id": "4faa0d58-d35b-4886-8ea7-43224ca2f0c1",
        "colab": {
          "base_uri": "https://localhost:8080/"
        },
        "outputId": "2822beea-ced9-45aa-9789-47aa8f6f492e"
      },
      "outputs": [
        {
          "output_type": "stream",
          "name": "stdout",
          "text": [
            "\u001b[1m1/1\u001b[0m \u001b[32m━━━━━━━━━━━━━━━━━━━━\u001b[0m\u001b[37m\u001b[0m \u001b[1m0s\u001b[0m 348ms/step\n",
            "Prediction for image 0: 7, True Label: 7\n",
            "Prediction for image 1: 2, True Label: 2\n",
            "Prediction for image 2: 1, True Label: 1\n",
            "Prediction for image 3: 0, True Label: 0\n",
            "Prediction for image 4: 4, True Label: 4\n"
          ]
        }
      ],
      "source": [
        "# 10. Predict and interpret\n",
        "predictions = model.predict(X_test_flattened[:5])\n",
        "for i, prediction in enumerate(predictions):\n",
        "    print(f\"Prediction for image {i}: {np.argmax(prediction)}, True Label: {y_test[i]}\")"
      ]
    },
    {
      "cell_type": "code",
      "execution_count": 15,
      "id": "342f0e31-5687-49e4-a7b5-e507e556410e",
      "metadata": {
        "id": "342f0e31-5687-49e4-a7b5-e507e556410e",
        "colab": {
          "base_uri": "https://localhost:8080/",
          "height": 138
        },
        "outputId": "fe8fdacd-5dcf-4469-d9a1-e997f667d3d9"
      },
      "outputs": [
        {
          "output_type": "stream",
          "name": "stdout",
          "text": [
            "\u001b[1m313/313\u001b[0m \u001b[32m━━━━━━━━━━━━━━━━━━━━\u001b[0m\u001b[37m\u001b[0m \u001b[1m1s\u001b[0m 2ms/step\n"
          ]
        },
        {
          "output_type": "display_data",
          "data": {
            "text/plain": [
              "<Figure size 1500x500 with 8 Axes>"
            ],
            "image/png": "[encoded data removed]"
          },
          "metadata": {}
        }
      ],
      "source": [
        "# 11. Analyze incorrect predictions\n",
        "y_pred = np.argmax(model.predict(X_test_flattened), axis=1)\n",
        "incorrect_idx = np.where(y_pred != y_test)[0]\n",
        "\n",
        "# Plot some incorrect predictions\n",
        "fig, axes = plt.subplots(1, 8, figsize=(15, 5))\n",
        "for ax, idx in zip(axes, incorrect_idx[:8]):\n",
        "    ax.imshow(X_test[idx], cmap='gray')\n",
        "    ax.set_title(f\"Pred: {y_pred[idx]}, True: {y_test[idx]}\")\n",
        "    ax.axis('off')\n",
        "plt.show()"
      ]
    }
  ],
  "metadata": {
    "kernelspec": {
      "display_name": "Python 3",
      "name": "python3"
    },
    "language_info": {
      "codemirror_mode": {
        "name": "ipython",
        "version": 3
      },
      "file_extension": ".py",
      "mimetype": "text/x-python",
      "name": "python",
      "nbconvert_exporter": "python",
      "pygments_lexer": "ipython3",
      "version": "3.9.13"
    },
    "colab": {
      "provenance": [],
      "gpuType": "T4"
    },
    "accelerator": "GPU"
  },
  "nbformat": 4,
  "nbformat_minor": 5
}